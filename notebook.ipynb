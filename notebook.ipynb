{
 "cells": [
  {
   "cell_type": "markdown",
   "id": "479bd02b-4b77-4517-8245-e251f00c4d75",
   "metadata": {},
   "source": [
    "# Balanced Risk Set Matching\n",
    "Zeus D. Elderfield\n",
    "\n",
    "Link to article: [Balanced Risk Set Matching: Journal of the American Statistical Association](https://doi.org/10.1198/016214501753208573)"
   ]
  },
  {
   "cell_type": "markdown",
   "id": "0bf4cc28-b98c-4ef8-99ae-31b588df7088",
   "metadata": {},
   "source": [
    "## Import necessary libraries"
   ]
  },
  {
   "cell_type": "code",
   "execution_count": 1,
   "id": "b6a7eb34-f58c-440e-b0b0-bda161f075cc",
   "metadata": {},
   "outputs": [],
   "source": [
    "import numpy as np\n",
    "import pandas as pd\n",
    "import matplotlib.pyplot as plt"
   ]
  }
 ],
 "metadata": {
  "kernelspec": {
   "display_name": "Python (.venv)",
   "language": "python",
   "name": ".venv"
  },
  "language_info": {
   "codemirror_mode": {
    "name": "ipython",
    "version": 3
   },
   "file_extension": ".py",
   "mimetype": "text/x-python",
   "name": "python",
   "nbconvert_exporter": "python",
   "pygments_lexer": "ipython3",
   "version": "3.13.1"
  }
 },
 "nbformat": 4,
 "nbformat_minor": 5
}
