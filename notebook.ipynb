{
 "cells": [
  {
   "cell_type": "markdown",
   "id": "479bd02b-4b77-4517-8245-e251f00c4d75",
   "metadata": {},
   "source": [
    "# Balanced Risk Set Matching\n",
    "Zeus D. Elderfield\n",
    "\n",
    "Link to article: [Balanced Risk Set Matching: Journal of the American Statistical Association](https://doi.org/10.1198/016214501753208573)"
   ]
  },
  {
   "cell_type": "markdown",
   "id": "9dab20cf-23fe-482d-91ef-11be0b995721",
   "metadata": {},
   "source": [
    "## Instructions:\n",
    "- Read the journal provided.\n",
    "- Develop a Python implementation of the procedures in the journal.\n",
    "- Deadline is before premidterm week."
   ]
  },
  {
   "cell_type": "markdown",
   "id": "0bf4cc28-b98c-4ef8-99ae-31b588df7088",
   "metadata": {},
   "source": [
    "### Import necessary libraries"
   ]
  },
  {
   "cell_type": "code",
   "execution_count": 296,
   "id": "b6a7eb34-f58c-440e-b0b0-bda161f075cc",
   "metadata": {},
   "outputs": [],
   "source": [
    "import numpy as np\n",
    "import pandas as pd\n",
    "from collections import defaultdict\n",
    "import matplotlib.pyplot as plt"
   ]
  },
  {
   "cell_type": "markdown",
   "id": "3eaa9add-3900-40e9-8562-b56b55965ae7",
   "metadata": {},
   "source": [
    "### Set global variables & seed"
   ]
  },
  {
   "cell_type": "code",
   "execution_count": 297,
   "id": "fd147b37-12b0-441f-96f2-974d6bc4c3e3",
   "metadata": {},
   "outputs": [],
   "source": [
    "np.random.seed(24)\n",
    "\n",
    "number_of_patients = 200\n",
    "evaluation_years = 4\n",
    "evaluation_months = evaluation_years * 12\n",
    "MAX_MATCHES = 100\n",
    "BOX_TITLES = ['Baseline', 'At Treatment', '3 Months after Treatment', '6 Months after Treatment']\n",
    "BOX_LABELS = ['Never/Later Treated', 'Treated']"
   ]
  },
  {
   "cell_type": "markdown",
   "id": "aff9baa1-e184-4e47-bcf0-df604260cbb9",
   "metadata": {},
   "source": [
    "### Load initial evaluation data upon patient entry"
   ]
  },
  {
   "cell_type": "code",
   "execution_count": 298,
   "id": "7de225c3-725b-4938-a677-80af78021f18",
   "metadata": {},
   "outputs": [
    {
     "data": {
      "text/html": [
       "<div>\n",
       "<style scoped>\n",
       "    .dataframe tbody tr th:only-of-type {\n",
       "        vertical-align: middle;\n",
       "    }\n",
       "\n",
       "    .dataframe tbody tr th {\n",
       "        vertical-align: top;\n",
       "    }\n",
       "\n",
       "    .dataframe thead th {\n",
       "        text-align: right;\n",
       "    }\n",
       "</style>\n",
       "<table border=\"1\" class=\"dataframe\">\n",
       "  <thead>\n",
       "    <tr style=\"text-align: right;\">\n",
       "      <th></th>\n",
       "      <th>patient_id</th>\n",
       "      <th>gender</th>\n",
       "      <th>pain</th>\n",
       "      <th>urgency</th>\n",
       "      <th>frequency</th>\n",
       "    </tr>\n",
       "  </thead>\n",
       "  <tbody>\n",
       "    <tr>\n",
       "      <th>0</th>\n",
       "      <td>0</td>\n",
       "      <td>M</td>\n",
       "      <td>1</td>\n",
       "      <td>7</td>\n",
       "      <td>16</td>\n",
       "    </tr>\n",
       "    <tr>\n",
       "      <th>1</th>\n",
       "      <td>1</td>\n",
       "      <td>F</td>\n",
       "      <td>1</td>\n",
       "      <td>8</td>\n",
       "      <td>19</td>\n",
       "    </tr>\n",
       "    <tr>\n",
       "      <th>2</th>\n",
       "      <td>2</td>\n",
       "      <td>M</td>\n",
       "      <td>8</td>\n",
       "      <td>8</td>\n",
       "      <td>14</td>\n",
       "    </tr>\n",
       "    <tr>\n",
       "      <th>3</th>\n",
       "      <td>3</td>\n",
       "      <td>F</td>\n",
       "      <td>3</td>\n",
       "      <td>2</td>\n",
       "      <td>18</td>\n",
       "    </tr>\n",
       "    <tr>\n",
       "      <th>4</th>\n",
       "      <td>4</td>\n",
       "      <td>F</td>\n",
       "      <td>5</td>\n",
       "      <td>4</td>\n",
       "      <td>17</td>\n",
       "    </tr>\n",
       "  </tbody>\n",
       "</table>\n",
       "</div>"
      ],
      "text/plain": [
       "   patient_id gender  pain  urgency  frequency\n",
       "0           0      M     1        7         16\n",
       "1           1      F     1        8         19\n",
       "2           2      M     8        8         14\n",
       "3           3      F     3        2         18\n",
       "4           4      F     5        4         17"
      ]
     },
     "execution_count": 298,
     "metadata": {},
     "output_type": "execute_result"
    }
   ],
   "source": [
    "baseline = pd.DataFrame({\n",
    "    \"patient_id\": np.arange(0, number_of_patients),\n",
    "    \"gender\": np.random.choice(['M', 'F'], number_of_patients),\n",
    "    \"pain\": np.random.randint(0, 10, number_of_patients),\n",
    "    \"urgency\": np.random.randint(0, 10, number_of_patients),\n",
    "    \"frequency\": np.random.randint(0, 20, number_of_patients)\n",
    "})\n",
    "\n",
    "baseline.head()"
   ]
  },
  {
   "cell_type": "markdown",
   "id": "640a7f7b-596f-441e-b6be-893532cb14d5",
   "metadata": {},
   "source": [
    "### Load evaluation data every 3 months"
   ]
  },
  {
   "cell_type": "code",
   "execution_count": 299,
   "id": "ea542ba2-2a5a-420b-a2dd-80e34866f758",
   "metadata": {},
   "outputs": [
    {
     "data": {
      "text/html": [
       "<div>\n",
       "<style scoped>\n",
       "    .dataframe tbody tr th:only-of-type {\n",
       "        vertical-align: middle;\n",
       "    }\n",
       "\n",
       "    .dataframe tbody tr th {\n",
       "        vertical-align: top;\n",
       "    }\n",
       "\n",
       "    .dataframe thead th {\n",
       "        text-align: right;\n",
       "    }\n",
       "</style>\n",
       "<table border=\"1\" class=\"dataframe\">\n",
       "  <thead>\n",
       "    <tr style=\"text-align: right;\">\n",
       "      <th></th>\n",
       "      <th>pain</th>\n",
       "      <th>urgency</th>\n",
       "      <th>frequency</th>\n",
       "    </tr>\n",
       "    <tr>\n",
       "      <th>patient_id</th>\n",
       "      <th></th>\n",
       "      <th></th>\n",
       "      <th></th>\n",
       "    </tr>\n",
       "  </thead>\n",
       "  <tbody>\n",
       "    <tr>\n",
       "      <th>0</th>\n",
       "      <td>4.6250</td>\n",
       "      <td>5.3750</td>\n",
       "      <td>8.8750</td>\n",
       "    </tr>\n",
       "    <tr>\n",
       "      <th>1</th>\n",
       "      <td>5.3750</td>\n",
       "      <td>4.5000</td>\n",
       "      <td>8.5000</td>\n",
       "    </tr>\n",
       "    <tr>\n",
       "      <th>2</th>\n",
       "      <td>4.5625</td>\n",
       "      <td>4.5625</td>\n",
       "      <td>7.3750</td>\n",
       "    </tr>\n",
       "    <tr>\n",
       "      <th>3</th>\n",
       "      <td>4.3125</td>\n",
       "      <td>5.1250</td>\n",
       "      <td>7.8125</td>\n",
       "    </tr>\n",
       "    <tr>\n",
       "      <th>4</th>\n",
       "      <td>3.5000</td>\n",
       "      <td>4.6250</td>\n",
       "      <td>8.3125</td>\n",
       "    </tr>\n",
       "  </tbody>\n",
       "</table>\n",
       "</div>"
      ],
      "text/plain": [
       "              pain  urgency  frequency\n",
       "patient_id                            \n",
       "0           4.6250   5.3750     8.8750\n",
       "1           5.3750   4.5000     8.5000\n",
       "2           4.5625   4.5625     7.3750\n",
       "3           4.3125   5.1250     7.8125\n",
       "4           3.5000   4.6250     8.3125"
      ]
     },
     "execution_count": 299,
     "metadata": {},
     "output_type": "execute_result"
    }
   ],
   "source": [
    "evaluations = pd.DataFrame()\n",
    "\n",
    "for patient_id in range(number_of_patients):\n",
    "    chosen_treatment_time = np.random.choice(list(np.arange(3, evaluation_months + 1, 3)) + [None])\n",
    "    \n",
    "    # Evaluate every 3 months up to 4 years\n",
    "    for month in range(3, evaluation_months + 1, 3):\n",
    "        pain = np.random.randint(0, 10, 1)\n",
    "        urgency = np.random.randint(0, 10, 1)\n",
    "        frequency = np.random.randint(0, 20, 1)\n",
    "        time_since_entry = month\n",
    "\n",
    "        if chosen_treatment_time == None or month < chosen_treatment_time:\n",
    "            time_treated = None\n",
    "            treated = 0\n",
    "        else:\n",
    "            time_treated = chosen_treatment_time\n",
    "            treated = 1\n",
    "\n",
    "        evaluations = pd.concat([evaluations, pd.DataFrame({\n",
    "            'patient_id': patient_id, \n",
    "            'pain': pain, \n",
    "            'urgency': urgency, \n",
    "            'frequency': frequency, \n",
    "            'time_since_entry': time_since_entry, \n",
    "            'time_treated': time_treated, \n",
    "            'treated': treated\n",
    "        })])\n",
    "\n",
    "evaluations.groupby('patient_id')[['pain', 'urgency', 'frequency']].mean().head()"
   ]
  },
  {
   "cell_type": "markdown",
   "id": "763fbcde-8279-4650-89f2-ccfcfe07adae",
   "metadata": {},
   "source": [
    "### Generate risk sets"
   ]
  },
  {
   "cell_type": "code",
   "execution_count": 300,
   "id": "2af57a37-93f2-4d09-8a77-badec2070afd",
   "metadata": {},
   "outputs": [
    {
     "data": {
      "text/plain": [
       "dict_keys([33, 30, 24, 12, 48, 9, 27, 18, 3, 45, 21, 6, 36, 39, 42, 15])"
      ]
     },
     "execution_count": 300,
     "metadata": {},
     "output_type": "execute_result"
    }
   ],
   "source": [
    "risk_sets = {}\n",
    "\n",
    "for time in evaluations['time_treated'].dropna().unique():\n",
    "    treated = evaluations[(evaluations['time_since_entry'] == time) & (evaluations['time_treated'] == time)]\n",
    "    untreated = evaluations[(evaluations['time_since_entry'] == time) & (evaluations['treated'] == 0)]\n",
    "\n",
    "    risk_sets[time] = (treated, untreated)\n",
    "\n",
    "risk_sets.keys()"
   ]
  },
  {
   "cell_type": "markdown",
   "id": "6329eb4d-d3b9-4aeb-bbe4-dc7b94ae9439",
   "metadata": {},
   "source": [
    "### Generate Binary Variable Functions"
   ]
  },
  {
   "cell_type": "code",
   "execution_count": 301,
   "id": "9c308cbe-feae-4eb1-9cc7-48cc33c85f89",
   "metadata": {},
   "outputs": [],
   "source": [
    "def create_bin_var(df, variables):\n",
    "    binary_vars =defaultdict(list)\n",
    "    for var in variables:\n",
    "        # Compute one-third and two-thirds percentiles\n",
    "        lower_percentile = np.percentile(df[var], 33)\n",
    "        upper_percentile = np.percentile(df[var], 67)\n",
    "\n",
    "        # Create binary variables for lower, middle, and upper groups\n",
    "        binary_lower = (df[var] <= lower_percentile).astype(int)\n",
    "        binary_middle = ((df[var] > lower_percentile) & (df[var] <= upper_percentile)).astype(int)\n",
    "        binary_upper = (df[var] > upper_percentile).astype(int)\n",
    "        \n",
    "        # Append to binary_vars \"x_lower\" is already implied if both variables are 0\n",
    "        binary_vars[f\"{var}_middle\"].extend(binary_middle)\n",
    "        binary_vars[f\"{var}_upper\"].extend(binary_upper)\n",
    "\n",
    "    # Generate binary DataFrame for each symptom variable\n",
    "    binary_df = pd.DataFrame(binary_vars)\n",
    "    return binary_df"
   ]
  },
  {
   "cell_type": "markdown",
   "id": "0d99eacc-b334-4e50-9465-4b20f0ec8c39",
   "metadata": {},
   "source": [
    "### Update risk set \n",
    "Update both dataframes to join with their respective baseline features. Additionally, 12 binary variables are added to these dataframes to determine the feature quantile."
   ]
  },
  {
   "cell_type": "code",
   "execution_count": 302,
   "id": "1bbd8cbd-2e16-4b00-8c0b-1d2f959c310d",
   "metadata": {},
   "outputs": [
    {
     "data": {
      "text/plain": [
       "Index(['patient_id', 'pain_current', 'urgency_current', 'frequency_current',\n",
       "       'time_since_entry', 'time_treated', 'treated', 'gender',\n",
       "       'pain_baseline', 'urgency_baseline', 'frequency_baseline',\n",
       "       'pain_current_middle', 'pain_current_upper', 'urgency_current_middle',\n",
       "       'urgency_current_upper', 'frequency_current_middle',\n",
       "       'frequency_current_upper', 'pain_baseline_middle',\n",
       "       'pain_baseline_upper', 'urgency_baseline_middle',\n",
       "       'urgency_baseline_upper', 'frequency_baseline_middle',\n",
       "       'frequency_baseline_upper'],\n",
       "      dtype='object')"
      ]
     },
     "execution_count": 302,
     "metadata": {},
     "output_type": "execute_result"
    }
   ],
   "source": [
    "new_rs = {}\n",
    "variables = [\n",
    "    'pain_current',\n",
    "    'urgency_current',\n",
    "    'frequency_current',\n",
    "    'pain_baseline',\n",
    "    'urgency_baseline',\n",
    "    'frequency_baseline'\n",
    "]\n",
    "\n",
    "for key, (t, u) in risk_sets.items():\n",
    "    # Treated DataFrame\n",
    "    treated = t.merge(baseline, on='patient_id', suffixes=['_current', '_baseline'])\n",
    "    \n",
    "    bin_t = create_bin_var(treated, variables)\n",
    "    treated = pd.concat([treated, bin_t], axis=1)\n",
    "\n",
    "    # Untreated DataFrame\n",
    "    untreated = u.merge(baseline, on='patient_id', suffixes=['_current', '_baseline'])\n",
    "\n",
    "    bin_u = create_bin_var(untreated, variables)\n",
    "    untreated = pd.concat([untreated, bin_u], axis=1)\n",
    "\n",
    "    new_rs[key] = (treated, untreated)\n",
    "\n",
    "list(new_rs.values())[0][0].columns"
   ]
  },
  {
   "cell_type": "markdown",
   "id": "ebb1d4a5-1ddf-41ec-8b83-f7105270c554",
   "metadata": {},
   "source": [
    "# Matching by Minimum Cost Flow in a Network"
   ]
  },
  {
   "cell_type": "markdown",
   "id": "8a529ae5-77f3-47ae-be69-182724bb96c7",
   "metadata": {},
   "source": [
    "### Compute for the different distance between t and u utilizing Mahalanobis"
   ]
  },
  {
   "cell_type": "code",
   "execution_count": 303,
   "id": "441548af-92b9-4278-8059-a693e3fb02c3",
   "metadata": {},
   "outputs": [],
   "source": [
    "def compute_distance(treated, untreated, covariates):\n",
    "    treated_matrix = treated[covariates].to_numpy()\n",
    "    untreated_matrix = untreated[covariates].to_numpy()\n",
    "    \n",
    "    return cdist(treated_matrix, untreated_matrix, metric='mahalanobis')"
   ]
  },
  {
   "cell_type": "markdown",
   "id": "6def3420-719d-42fe-b2bf-86d91e008b72",
   "metadata": {},
   "source": [
    "### Store distances and matches as well as avg distance"
   ]
  },
  {
   "cell_type": "code",
   "execution_count": 304,
   "id": "fcc35b8b-ba71-45af-99a6-2626b708096c",
   "metadata": {},
   "outputs": [
    {
     "data": {
      "text/plain": [
       "np.float64(3.3476209090392515)"
      ]
     },
     "execution_count": 304,
     "metadata": {},
     "output_type": "execute_result"
    }
   ],
   "source": [
    "distance_dict = defaultdict(list)\n",
    "\n",
    "for key, (t, u) in new_rs.items():\n",
    "    distance_matrix = compute_distance(t, u, variables)\n",
    "\n",
    "    for i, row in enumerate(distance_matrix):\n",
    "        for j, distance in enumerate(row):\n",
    "            distance_dict[distance].append((int(t['patient_id'].iloc[i]), int(u['patient_id'].iloc[j])))\n",
    "\n",
    "mcf_avg_distance = sum(distance_dict.keys()) / len(distance_dict.keys())\n",
    "\n",
    "mcf_avg_distance"
   ]
  },
  {
   "cell_type": "markdown",
   "id": "315ebb4f-114d-4d97-9414-160ce7d90eec",
   "metadata": {},
   "source": [
    "### Create matches from Minimum Cost Flow in a Network (top 100)"
   ]
  },
  {
   "cell_type": "code",
   "execution_count": 305,
   "id": "654355b7-188d-456a-a343-a40f5cdd76bc",
   "metadata": {
    "scrolled": true
   },
   "outputs": [
    {
     "data": {
      "text/plain": [
       "[(189, 156), (54, 67), (98, 13), (174, 172), (168, 5)]"
      ]
     },
     "execution_count": 305,
     "metadata": {},
     "output_type": "execute_result"
    }
   ],
   "source": [
    "mcf_matches = [] # Minimum Cost Flow matches\n",
    "count = 0\n",
    "\n",
    "for keys in sorted(distance_dict.keys()):\n",
    "    for match in distance_dict[keys]:\n",
    "        if count >= MAX_MATCHES:\n",
    "            break\n",
    "            \n",
    "        mcf_matches.append(match)\n",
    "        count += 1\n",
    "\n",
    "mcf_matches[:5] # Print first 5 matches"
   ]
  },
  {
   "cell_type": "markdown",
   "id": "f5854082-8e44-4f14-8373-a493a8db61f2",
   "metadata": {},
   "source": [
    "# Balanced Pair Matching"
   ]
  },
  {
   "cell_type": "markdown",
   "id": "88f6fa61-7c1d-4bed-9b4e-b9a6e4a89207",
   "metadata": {},
   "source": [
    "### Compute for sum of K binary variables"
   ]
  },
  {
   "cell_type": "code",
   "execution_count": 306,
   "id": "ad23e0cb-f1ca-4034-b379-a74e784cf6ff",
   "metadata": {},
   "outputs": [],
   "source": [
    "def find_sum_bin(series, variables):\n",
    "    total = 0\n",
    "\n",
    "    for var in variables:\n",
    "        total += series.loc[var]\n",
    "\n",
    "    return total"
   ]
  },
  {
   "cell_type": "code",
   "execution_count": 307,
   "id": "93d73dfa-2a6a-4bde-a89c-fa03ad7e5db4",
   "metadata": {},
   "outputs": [
    {
     "data": {
      "text/plain": [
       "[(0, 12), (5, 35), (43, 44), (82, 11), (84, 8)]"
      ]
     },
     "execution_count": 307,
     "metadata": {},
     "output_type": "execute_result"
    }
   ],
   "source": [
    "bpm_matches = []\n",
    "patient_set = set()\n",
    "count = 0\n",
    "\n",
    "var = [\n",
    "    f\"{x}_middle\" for x in variables\n",
    "] + [\n",
    "    f\"{x}_upper\" for x in variables\n",
    "]\n",
    "\n",
    "for (t, u) in new_rs.values():\n",
    "    for i in range(t.shape[0]):\n",
    "        for j in range(u.shape[0]):\n",
    "            # If balanced\n",
    "            if count < MAX_MATCHES and find_sum_bin(t.iloc[i], var) == find_sum_bin(u.iloc[j], var):\n",
    "                t_id = int(t['patient_id'].iloc[i])\n",
    "                u_id = int(u['patient_id'].iloc[j])\n",
    "\n",
    "                if t_id not in patient_set and u_id not in patient_set: \n",
    "                    bpm_matches.append((t_id, u_id))\n",
    "                    \n",
    "                    patient_set.add(t_id)\n",
    "                    patient_set.add(u_id)\n",
    "                count += 1\n",
    "\n",
    "bpm_matches[:5]"
   ]
  },
  {
   "cell_type": "markdown",
   "id": "b6eb928f-ab95-4026-b51f-384feee06bbd",
   "metadata": {},
   "source": [
    "# Group DataFrames based on matches\n",
    "\n",
    "We will be using the matches we found using Balanced Pair Matching:\n",
    "\n",
    "There will be eight DataFrames:\n",
    "- Baseline Treated & Untreated\n",
    "- At Treatment Treated & Untreated\n",
    "- 3 months after treatment Treated & Untreated \n",
    "- 6 months after treatment Treated & Untreated\n",
    "\n",
    "Features include:\n",
    "\n",
    "- Pain Score\n",
    "- Urgency Score\n",
    "- Nocturnal Frequency\n",
    "    "
   ]
  },
  {
   "cell_type": "code",
   "execution_count": 308,
   "id": "a1ebe956-0580-4333-ab2c-49c06c98aa22",
   "metadata": {},
   "outputs": [],
   "source": [
    "def find_dataframes(match):\n",
    "    x, y = match\n",
    "    features = ['pain', 'urgency', 'frequency']\n",
    "\n",
    "    # Getting baseline data\n",
    "    baseline_match_x = baseline[baseline['patient_id'] == x][features]\n",
    "    baseline_match_y = baseline[baseline['patient_id'] == y][features]\n",
    "\n",
    "    features.append('treated')\n",
    "    \n",
    "    # Getting on treatment data\n",
    "    treatment_match_x = evaluations[(evaluations['patient_id'] == x) \n",
    "        & (evaluations['time_treated'] == evaluations['time_since_entry'])][features + ['time_since_entry']]\n",
    "\n",
    "    time_since_entry = treatment_match_x['time_since_entry'].iloc[0] if not treatment_match_x['time_since_entry'].empty else -1\n",
    "    \n",
    "    if time_since_entry == -1:\n",
    "        return ()\n",
    "    else:\n",
    "        treatment_match_x = treatment_match_x.drop('time_since_entry', axis=1)\n",
    "\n",
    "    treatment_match_y = evaluations[(evaluations['patient_id'] == y) \n",
    "        & (evaluations['time_since_entry'] == time_since_entry)][features]\n",
    "\n",
    "    # Getting 3 months after data\n",
    "    time_since_entry += 3\n",
    "    \n",
    "    _3_months_match_x = evaluations[(evaluations['patient_id'] == x) \n",
    "        & (evaluations['time_since_entry'] == time_since_entry)][features]\n",
    "    _3_months_match_y = evaluations[(evaluations['patient_id'] == y) \n",
    "        & (evaluations['time_since_entry'] == time_since_entry)][features]\n",
    "\n",
    "    # Getting 6 months after data\n",
    "    time_since_entry += 3\n",
    "\n",
    "    _6_months_match_x = evaluations[(evaluations['patient_id'] == x) \n",
    "        & (evaluations['time_since_entry'] == time_since_entry)][features]\n",
    "    _6_months_match_y = evaluations[(evaluations['patient_id'] == y) \n",
    "        & (evaluations['time_since_entry'] == time_since_entry)][features]\n",
    "\n",
    "    return (\n",
    "        baseline_match_x, \n",
    "        baseline_match_y,\n",
    "        treatment_match_x,\n",
    "        treatment_match_y,\n",
    "        _3_months_match_x,\n",
    "        _3_months_match_y,\n",
    "        _6_months_match_x,\n",
    "        _6_months_match_y\n",
    "    )"
   ]
  },
  {
   "cell_type": "code",
   "execution_count": 309,
   "id": "f8a95567-61ad-4ff7-be55-c6c300121d4e",
   "metadata": {},
   "outputs": [],
   "source": [
    "# Initializing DataFrames\n",
    "dataframes = [pd.DataFrame() for _ in range(8)]\n",
    "\n",
    "for match in bpm_matches:\n",
    "    data = find_dataframes(match)\n",
    "\n",
    "    if len(data) == 0:\n",
    "        continue\n",
    "    \n",
    "    (\n",
    "        baseline_match_x, \n",
    "        baseline_match_y,\n",
    "        treatment_match_x,\n",
    "        treatment_match_y,\n",
    "        _3_months_match_x,\n",
    "        _3_months_match_y,\n",
    "        _6_months_match_x,\n",
    "        _6_months_match_y\n",
    "    ) = data\n",
    "\n",
    "    for i in range(len(dataframes)):\n",
    "        dataframes[i] = pd.concat([dataframes[i], data[i]])\n",
    "\n",
    "[\n",
    "    baseline_x,\n",
    "    baseline_y,\n",
    "    treatment_x,\n",
    "    treatment_y,\n",
    "    _3_month_x,\n",
    "    _3_month_y,\n",
    "    _6_month_x,\n",
    "    _6_month_y\n",
    "] = dataframes"
   ]
  },
  {
   "cell_type": "markdown",
   "id": "63165aea-6306-4252-b5ce-827216873350",
   "metadata": {},
   "source": [
    "# Quality of the Matching"
   ]
  },
  {
   "cell_type": "markdown",
   "id": "d314e668-3507-464c-b4d5-c6a6e3ab535b",
   "metadata": {},
   "source": [
    "### Pain Score"
   ]
  },
  {
   "cell_type": "code",
   "execution_count": 315,
   "id": "5930f95e-1c31-4f49-97cc-78cc7069c5ee",
   "metadata": {},
   "outputs": [
    {
     "data": {
      "image/png": "[encoded data removed]",
      "text/plain": [
       "<Figure size 400x200 with 1 Axes>"
      ]
     },
     "metadata": {},
     "output_type": "display_data"
    },
    {
     "data": {
      "image/png": "[encoded data removed]",
      "text/plain": [
       "<Figure size 400x200 with 1 Axes>"
      ]
     },
     "metadata": {},
     "output_type": "display_data"
    },
    {
     "data": {
      "image/png": "[encoded data removed]",
      "text/plain": [
       "<Figure size 400x200 with 1 Axes>"
      ]
     },
     "metadata": {},
     "output_type": "display_data"
    },
    {
     "data": {
      "image/png": "[encoded data removed]",
      "text/plain": [
       "<Figure size 400x200 with 1 Axes>"
      ]
     },
     "metadata": {},
     "output_type": "display_data"
    }
   ],
   "source": [
    "for i in range(0, len(dataframes), 2):    \n",
    "    fig = plt.figure(i + 1, figsize=(4, 2))\n",
    "    plt.boxplot([dataframes[i + 1].loc[:, 'pain'], dataframes[i].loc[:, 'pain']])\n",
    "    plt.title(BOX_TITLES[i // 2])\n",
    "    plt.ylabel('Pain Score')\n",
    "    plt.xticks([1, 2], BOX_LABELS)\n",
    "\n",
    "plt.show()"
   ]
  },
  {
   "cell_type": "markdown",
   "id": "eaaa9ce6-b2b8-4f70-9a38-f6595e0cdc3c",
   "metadata": {},
   "source": [
    "### Urgency Score"
   ]
  },
  {
   "cell_type": "code",
   "execution_count": 314,
   "id": "766347f5-a375-4eef-b7c4-12a80ca53a11",
   "metadata": {},
   "outputs": [
    {
     "data": {
      "image/png": "[encoded data removed]",
      "text/plain": [
       "<Figure size 400x200 with 1 Axes>"
      ]
     },
     "metadata": {},
     "output_type": "display_data"
    },
    {
     "data": {
      "image/png": "[encoded data removed]",
      "text/plain": [
       "<Figure size 400x200 with 1 Axes>"
      ]
     },
     "metadata": {},
     "output_type": "display_data"
    },
    {
     "data": {
      "image/png": "[encoded data removed]",
      "text/plain": [
       "<Figure size 400x200 with 1 Axes>"
      ]
     },
     "metadata": {},
     "output_type": "display_data"
    },
    {
     "data": {
      "image/png": "[encoded data removed]",
      "text/plain": [
       "<Figure size 400x200 with 1 Axes>"
      ]
     },
     "metadata": {},
     "output_type": "display_data"
    }
   ],
   "source": [
    "for i in range(0, len(dataframes), 2):    \n",
    "    fig = plt.figure(i + 1, figsize=(4, 2))\n",
    "    plt.boxplot([dataframes[i + 1].loc[:, 'urgency'], dataframes[i].loc[:, 'urgency']])\n",
    "    plt.title(BOX_TITLES[i // 2])\n",
    "    plt.ylabel('Urgency Score')\n",
    "    plt.xticks([1, 2], BOX_LABELS)\n",
    "\n",
    "plt.show()"
   ]
  },
  {
   "cell_type": "markdown",
   "id": "0275ebfe-02d2-408d-adbd-df411de564c3",
   "metadata": {},
   "source": [
    "### Nocturnal Frequency"
   ]
  },
  {
   "cell_type": "code",
   "execution_count": 316,
   "id": "15c80a5b-121e-4604-944c-b1774750a2cd",
   "metadata": {},
   "outputs": [
    {
     "data": {
      "image/png": "[encoded data removed]",
      "text/plain": [
       "<Figure size 400x200 with 1 Axes>"
      ]
     },
     "metadata": {},
     "output_type": "display_data"
    },
    {
     "data": {
      "image/png": "[encoded data removed]",
      "text/plain": [
       "<Figure size 400x200 with 1 Axes>"
      ]
     },
     "metadata": {},
     "output_type": "display_data"
    },
    {
     "data": {
      "image/png": "[encoded data removed]",
      "text/plain": [
       "<Figure size 400x200 with 1 Axes>"
      ]
     },
     "metadata": {},
     "output_type": "display_data"
    },
    {
     "data": {
      "image/png": "[encoded data removed]",
      "text/plain": [
       "<Figure size 400x200 with 1 Axes>"
      ]
     },
     "metadata": {},
     "output_type": "display_data"
    }
   ],
   "source": [
    "for i in range(0, len(dataframes), 2):    \n",
    "    fig = plt.figure(i + 1, figsize=(4, 2))\n",
    "    plt.boxplot([dataframes[i + 1].loc[:, 'frequency'], dataframes[i].loc[:, 'frequency']])\n",
    "    plt.title(BOX_TITLES[i // 2])\n",
    "    plt.ylabel('Nocturnal Frequency')\n",
    "    plt.xticks([1, 2], BOX_LABELS)\n",
    "\n",
    "plt.show()"
   ]
  }
 ],
 "metadata": {
  "kernelspec": {
   "display_name": "Python (.venv)",
   "language": "python",
   "name": ".venv"
  },
  "language_info": {
   "codemirror_mode": {
    "name": "ipython",
    "version": 3
   },
   "file_extension": ".py",
   "mimetype": "text/x-python",
   "name": "python",
   "nbconvert_exporter": "python",
   "pygments_lexer": "ipython3",
   "version": "3.13.1"
  }
 },
 "nbformat": 4,
 "nbformat_minor": 5
}
